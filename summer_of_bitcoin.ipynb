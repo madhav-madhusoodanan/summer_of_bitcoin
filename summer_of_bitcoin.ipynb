{
  "nbformat": 4,
  "nbformat_minor": 0,
  "metadata": {
    "colab": {
      "name": "summer_of_bitcoin.ipynb",
      "provenance": [],
      "collapsed_sections": []
    },
    "kernelspec": {
      "name": "python3",
      "display_name": "Python 3"
    },
    "language_info": {
      "name": "python"
    }
  },
  "cells": [
    {
      "cell_type": "markdown",
      "metadata": {
        "id": "Lrlb4UM0Mn5V"
      },
      "source": [
        "# **Logic**\n",
        "\n",
        "We first calculate the ratio of output (fee) to the input (weight) for each transaction.\n",
        "Let us call this metric as \"efficiency\".<br>\n",
        "So, the task of the miner is to maximise his efficiency while adhering to the block limit.<br><br>\n",
        "We sort the transactions in decreasing order of efficiency and then check each transaction from beginning<br><br>\n",
        "Any transaction that doesnt have a parent is automatically confirmed.<br>\n",
        "If any transaction has parent(s), then each parent transaction is checked.\n",
        "From here, 3 cases arise:<br><br>\n",
        "<ol>\n",
        "<li> The parent(s) are already confirmed (transaction confirmed)\n",
        "<li> The parent(s) exist but arent confirmed (transaction kept in probation*)\n",
        "<li> The parent(s) do not exist (transaction not confirmed)\n",
        "</ol>\n",
        "\n",
        "<br><br>\n",
        "*The parent(s) of that transaction may occur somewhere below that transaction, indicating that the parents' efficiency may be less.\n",
        "If the parent is only a little \"inefficient\", then it may be picked up for confirmation, else the transaction itself is discarded. This  is why the transaction is kept in probation."
      ]
    },
    {
      "cell_type": "code",
      "metadata": {
        "id": "BoWScpfIhv50"
      },
      "source": [
        "import pandas as pd\n",
        "import numpy as np"
      ],
      "execution_count": 1,
      "outputs": []
    },
    {
      "cell_type": "code",
      "metadata": {
        "id": "Bfxy0AFNi01A"
      },
      "source": [
        "file = pd.read_csv(\"/content/sample_data/mempool.csv\", skiprows=1, names=[\"tx_id\", \"fee\", \"weight\", \"parents\"])"
      ],
      "execution_count": 3,
      "outputs": []
    },
    {
      "cell_type": "code",
      "metadata": {
        "id": "Z7iy5QBlvDWv"
      },
      "source": [
        "# Adding the efficiency field so that mempool can be sorted by the same\n",
        "\n",
        "efficiency = pd.Series([], dtype=\"object\")\n",
        "\n",
        "for i in range(len(file)):\n",
        "  efficiency[i] = file[\"fee\"][i]/file[\"weight\"][i]\n",
        "\n",
        "file.insert(4, \"efficiency\", efficiency)"
      ],
      "execution_count": 4,
      "outputs": []
    },
    {
      "cell_type": "code",
      "metadata": {
        "id": "MPx-W3hAmCiu"
      },
      "source": [
        "sorted = file.sort_values(by=[\"efficiency\"], ascending=False)"
      ],
      "execution_count": 9,
      "outputs": []
    },
    {
      "cell_type": "code",
      "metadata": {
        "id": "y5QbH4bgvczX"
      },
      "source": [
        "# global variables\n",
        "\n",
        "confirmed = []\n",
        "probation = []    # list of indices of transaction in probation\n",
        "total_weight = 0\n",
        "total_fee = 0"
      ],
      "execution_count": 10,
      "outputs": []
    },
    {
      "cell_type": "code",
      "metadata": {
        "id": "n32oOLr0FA2W"
      },
      "source": [
        "# Helper functions\n",
        "\n",
        "def are_parents_null(index):\n",
        "  return pd.isnull(sorted[\"parents\"][index])\n",
        "\n",
        "def are_parents_confirmed(index):\n",
        "  # checking if parents appear in confirmed\n",
        "  parents = sorted[\"parents\"][index].split(\";\")\n",
        "  for parent in parents:     \n",
        "      if parent not in confirmed:\n",
        "        return False\n",
        "  return True\n",
        "\n",
        "def exceeds_block(index):\n",
        "  return total_weight + sorted[\"weight\"][index] > 4000000\n",
        "\n",
        "def check_probation():\n",
        "  global total_fee, total_weight\n",
        "  index_remove = []\n",
        "\n",
        "  # checks if each parent is confirmed\n",
        "  # while keeping an eye on the block limit\n",
        "  for index in probation:\n",
        "    if exceeds_block(index):\n",
        "      continue\n",
        "\n",
        "    if are_parents_confirmed(index):\n",
        "      # the transaction is confirmed\n",
        "      # all the confirmed tx's will be cleared in the next step\n",
        "      index_remove.append(index)\n",
        "      confirmed.append(sorted[\"tx_id\"][index])\n",
        "  \n",
        "  for index in index_remove:\n",
        "    # transaction is taken out of probation\n",
        "\n",
        "    probation.remove(index)\n",
        "  \n",
        "  return [confirmed, probation, total_weight, total_fee]\n",
        "\n",
        "def confirm(index):\n",
        "  global total_fee, total_weight\n",
        "\n",
        "  # confirm the transaction\n",
        "  confirmed.append(sorted[\"tx_id\"][index])\n",
        "  total_fee += sorted[\"fee\"][index]\n",
        "  total_weight += sorted[\"weight\"][index]\n",
        "\n",
        "  return [confirmed, total_weight, total_fee]"
      ],
      "execution_count": 11,
      "outputs": []
    },
    {
      "cell_type": "code",
      "metadata": {
        "id": "KaohEq1IxmYt"
      },
      "source": [
        "for tx_index in range(len(sorted_file)):\n",
        "  # checks if any tx in probation can be confirmed\n",
        "  check_probation()\n",
        "\n",
        "  if are_parents_null(tx_index):\n",
        "    # parents doesn't exist\n",
        "\n",
        "    if exceeds_block(tx_index):\n",
        "      # go to the next tx entry if this one doesn't fit the block\n",
        "      continue\n",
        "\n",
        "    # but if this tx fits the block, confirm the transaction\n",
        "    confirm(tx_index)\n",
        "\n",
        "  else: \n",
        "    # parent does exist\n",
        "\n",
        "    if are_parents_confirmed(tx_index):\n",
        "      # parents are confirmed too\n",
        "\n",
        "      if exceeds_block(tx_index):\n",
        "        # move to the next tx if this one doesnt fit\n",
        "        continue\n",
        "      \n",
        "      else:\n",
        "        # this transaction fits the block. Confirm it\n",
        "        confirm(tx_index)\n",
        "        \n",
        "    else:\n",
        "      # one or more parents arent confirmed yet.\n",
        "      # add to probation and move on\n",
        "\n",
        "      probation.append(tx_index)\n",
        "      continue"
      ],
      "execution_count": 12,
      "outputs": []
    },
    {
      "cell_type": "code",
      "metadata": {
        "id": "6FoSfRZ2FbX0"
      },
      "source": [
        "# print(\"length of confirmed list is \", len(confirmed))\n",
        "# print(\"fee objained: \", total_fee)\n",
        "# print(\"weight of block: \", total_weight)\n",
        "with open(\"/content/sample_data/block.txt\", \"w\") as f:\n",
        "  for tx_id in confirmed:\n",
        "    f.write(tx_id + \"\\n\")\n",
        "  "
      ],
      "execution_count": 28,
      "outputs": []
    }
  ]
}